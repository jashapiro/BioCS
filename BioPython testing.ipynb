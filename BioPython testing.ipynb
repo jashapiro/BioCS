{
 "cells": [
  {
   "cell_type": "markdown",
   "metadata": {
    "collapsed": true,
    "slideshow": {
     "slide_type": "slide"
    }
   },
   "source": [
    "# Fasta format\n",
    "\n",
    "```\n",
    ">SequenceID\n",
    "ACTTTACACCACGGAGAGACCACAC\n",
    ">SeqID2\n",
    "CAGGGGGGAGAGAGAGGGGCCCTTATAT\n",
    "GACCCACCCACCCAGGGAG\n",
    ">Seq3 This was a tough one\n",
    "GTCCTATTTTATGGGGAGACccaTTTAT\n",
    "```\n"
   ]
  },
  {
   "cell_type": "code",
   "execution_count": 1,
   "metadata": {
    "collapsed": false,
    "slideshow": {
     "slide_type": "slide"
    }
   },
   "outputs": [],
   "source": [
    "import io\n",
    "fasta_seqs = \"\"\">SequenceID\n",
    "ACTTTACACCACGGAGAGACCACAC\n",
    ">SeqID2\n",
    "CAGGGGGGAGAGAGAGGGGCCCTTATAT\n",
    "GACCCACCCACCCAGGGAG\n",
    ">Seq3 This was a tough one\n",
    "GTCCTATTTTATGGGGAGACccaTTTAT\n",
    "\"\"\"\n",
    "fasta_handle = io.StringIO(fasta_seqs)"
   ]
  },
  {
   "cell_type": "code",
   "execution_count": 2,
   "metadata": {
    "collapsed": false,
    "slideshow": {
     "slide_type": "slide"
    }
   },
   "outputs": [
    {
     "name": "stdout",
     "output_type": "stream",
     "text": [
      "SequenceID SequenceID ACTTTACACCACGGAGAGACCACAC\n",
      "SeqID2 SeqID2 CAGGGGGGAGAGAGAGGGGCCCTTATATGACCCACCCACCCAGGGAG\n",
      "Seq3 Seq3 This was a tough one GTCCTATTTTATGGGGAGACccaTTTAT\n"
     ]
    }
   ],
   "source": [
    "from Bio import SeqIO\n",
    "seqs = SeqIO.parse(fasta_handle, \"fasta\")\n",
    "for record in seqs:\n",
    "    print (record.id, record.description, record.seq)"
   ]
  }
 ],
 "metadata": {
  "celltoolbar": "Slideshow",
  "kernelspec": {
   "display_name": "Python 3",
   "language": "python",
   "name": "python3"
  },
  "language_info": {
   "codemirror_mode": {
    "name": "ipython",
    "version": 3
   },
   "file_extension": ".py",
   "mimetype": "text/x-python",
   "name": "python",
   "nbconvert_exporter": "python",
   "pygments_lexer": "ipython3",
   "version": "3.5.1"
  }
 },
 "nbformat": 4,
 "nbformat_minor": 0
}
